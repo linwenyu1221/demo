{
 "cells": [
  {
   "cell_type": "markdown",
   "id": "f82dd8a8",
   "metadata": {
    "papermill": {
     "duration": 0.026712,
     "end_time": "2022-05-19T09:49:57.681640",
     "exception": false,
     "start_time": "2022-05-19T09:49:57.654928",
     "status": "completed"
    },
    "tags": []
   },
   "source": [
    "# 第四章 基础实战——FashionMNIST时装分类"
   ]
  },
  {
   "cell_type": "markdown",
   "id": "4f0d1122",
   "metadata": {
    "papermill": {
     "duration": 0.041467,
     "end_time": "2022-05-19T09:49:57.748556",
     "exception": false,
     "start_time": "2022-05-19T09:49:57.707089",
     "status": "completed"
    },
    "tags": []
   },
   "source": [
    "<img src=\"./fashion-mnist-sprite.png\" width=\"400\" />  \n",
    "  \n",
    "经过前面三章内容的学习，我们完成了以下的内容：  \n",
    "- 对PyTorch有了初步的认识\n",
    "- 学会了如何安装PyTorch以及对应的编程环境\n",
    "- 学习了PyTorch最核心的理论基础（张量&自动求导）\n",
    "- 梳理了利用PyTorch完成深度学习的主要步骤和对应实现方式  \n",
    "  \n",
    "现在，我们通过一个基础实战案例，将第一部分所涉及的PyTorch入门知识串起来，便于大家加深理解。同时为后续的进阶学习打好基础。 \n",
    "  \n",
    "我们这里的任务是对10个类别的“时装”图像进行分类，使用FashionMNIST数据集（https://www.kaggle.com/zalando-research/fashionmnist ）。上图给出了FashionMNIST中数据的若干样例图，其中每个小图对应一个样本。  \n",
    "FashionMNIST数据集中包含已经预先划分好的训练集和测试集，其中训练集共60,000张图像，测试集共10,000张图像。每张图像均为单通道黑白图像，大小为32\\*32pixel，分属10个类别。  \n",
    "  \n",
    "下面让我们一起将第三章各部分内容逐步实现，来跑完整个深度学习流程。"
   ]
  },
  {
   "cell_type": "code",
   "execution_count": 1,
   "id": "e35c0a99",
   "metadata": {
    "execution": {
     "iopub.execute_input": "2022-05-19T09:49:57.834275Z",
     "iopub.status.busy": "2022-05-19T09:49:57.833883Z",
     "iopub.status.idle": "2022-05-19T09:49:58.554735Z",
     "shell.execute_reply": "2022-05-19T09:49:58.553960Z"
    },
    "papermill": {
     "duration": 0.764132,
     "end_time": "2022-05-19T09:49:58.556882",
     "exception": false,
     "start_time": "2022-05-19T09:49:57.792750",
     "status": "completed"
    },
    "tags": []
   },
   "outputs": [
    {
     "name": "stdout",
     "output_type": "stream",
     "text": [
      "Thu May 19 09:49:58 2022       \r\n",
      "+-----------------------------------------------------------------------------+\r\n",
      "| NVIDIA-SMI 470.82.01    Driver Version: 470.82.01    CUDA Version: 11.4     |\r\n",
      "|-------------------------------+----------------------+----------------------+\r\n",
      "| GPU  Name        Persistence-M| Bus-Id        Disp.A | Volatile Uncorr. ECC |\r\n",
      "| Fan  Temp  Perf  Pwr:Usage/Cap|         Memory-Usage | GPU-Util  Compute M. |\r\n",
      "|                               |                      |               MIG M. |\r\n",
      "|===============================+======================+======================|\r\n",
      "|   0  Tesla P100-PCIE...  Off  | 00000000:00:04.0 Off |                    0 |\r\n",
      "| N/A   32C    P0    26W / 250W |      0MiB / 16280MiB |      0%      Default |\r\n",
      "|                               |                      |                  N/A |\r\n",
      "+-------------------------------+----------------------+----------------------+\r\n",
      "                                                                               \r\n",
      "+-----------------------------------------------------------------------------+\r\n",
      "| Processes:                                                                  |\r\n",
      "|  GPU   GI   CI        PID   Type   Process name                  GPU Memory |\r\n",
      "|        ID   ID                                                   Usage      |\r\n",
      "|=============================================================================|\r\n",
      "|  No running processes found                                                 |\r\n",
      "+-----------------------------------------------------------------------------+\r\n"
     ]
    }
   ],
   "source": [
    "!nvidia-smi  #gpu型号为p100"
   ]
  },
  {
   "cell_type": "markdown",
   "id": "57537b06",
   "metadata": {
    "papermill": {
     "duration": 0.026265,
     "end_time": "2022-05-19T09:49:58.611929",
     "exception": false,
     "start_time": "2022-05-19T09:49:58.585664",
     "status": "completed"
    },
    "tags": []
   },
   "source": [
    "**首先导入必要的包**  "
   ]
  },
  {
   "cell_type": "code",
   "execution_count": 2,
   "id": "c664d992",
   "metadata": {
    "execution": {
     "iopub.execute_input": "2022-05-19T09:49:58.664985Z",
     "iopub.status.busy": "2022-05-19T09:49:58.664757Z",
     "iopub.status.idle": "2022-05-19T09:50:00.496481Z",
     "shell.execute_reply": "2022-05-19T09:50:00.495741Z"
    },
    "papermill": {
     "duration": 1.860733,
     "end_time": "2022-05-19T09:50:00.498532",
     "exception": false,
     "start_time": "2022-05-19T09:49:58.637799",
     "status": "completed"
    },
    "tags": []
   },
   "outputs": [],
   "source": [
    "import os\n",
    "import numpy as np\n",
    "import pandas as pd\n",
    "import matplotlib.pyplot as plt\n",
    "import torch\n",
    "import torch.nn as nn\n",
    "import torch.optim as optim\n",
    "from torch.utils.data import Dataset, DataLoader"
   ]
  },
  {
   "cell_type": "markdown",
   "id": "8bca3f65",
   "metadata": {
    "papermill": {
     "duration": 0.02595,
     "end_time": "2022-05-19T09:50:00.551346",
     "exception": false,
     "start_time": "2022-05-19T09:50:00.525396",
     "status": "completed"
    },
    "tags": []
   },
   "source": [
    "**配置训练环境和超参数**  \n"
   ]
  },
  {
   "cell_type": "code",
   "execution_count": 3,
   "id": "03932c82",
   "metadata": {
    "execution": {
     "iopub.execute_input": "2022-05-19T09:50:00.605183Z",
     "iopub.status.busy": "2022-05-19T09:50:00.604572Z",
     "iopub.status.idle": "2022-05-19T09:50:00.609730Z",
     "shell.execute_reply": "2022-05-19T09:50:00.609111Z"
    },
    "papermill": {
     "duration": 0.03414,
     "end_time": "2022-05-19T09:50:00.611499",
     "exception": false,
     "start_time": "2022-05-19T09:50:00.577359",
     "status": "completed"
    },
    "tags": []
   },
   "outputs": [],
   "source": [
    "# 配置GPU，这里有两种方式\n",
    "## 方案一：使用os.environ\n",
    "os.environ['CUDA_VISIBLE_DEVICES'] = '0'\n",
    "# # 方案二：使用“device”，后续对要使用GPU的变量用.to(device)即可\n",
    "# device = torch.device(\"cuda:1\" if torch.cuda.is_available() else \"cpu\")\n",
    "\n",
    "## 配置其他超参数，如batch_size, num_workers, learning rate, 以及总的epochs\n",
    "batch_size = 256\n",
    "num_workers = 2     # 对于Windows用户，这里应设置为0，否则会出现多线程错误.如果是4的话，会出现warning    /opt/conda/lib/python3.7/site-packages/torch/utils/data/dataloader.py:490: \n",
    "                    # UserWarning: This DataLoader will create 4 worker processes in total. Our suggested max number of worker in current system is 2, which is smaller than what this DataLoader is going to create. \n",
    "                    # Please be aware that excessive worker creation might get DataLoader running slow or even freeze, lower the worker number to avoid potential slowness/freeze if necessary.cpuset_checked))\n",
    "                    # gpu下的核心数是2，所以使用4时会有warning\n",
    "LR = 1e-3\n",
    "epochs = 25"
   ]
  },
  {
   "cell_type": "markdown",
   "id": "1b2d1957",
   "metadata": {
    "papermill": {
     "duration": 0.025809,
     "end_time": "2022-05-19T09:50:00.663131",
     "exception": false,
     "start_time": "2022-05-19T09:50:00.637322",
     "status": "completed"
    },
    "tags": []
   },
   "source": [
    "第一种方式更简单，后续使用时只需要xxx.cuda()\n",
    "第二种方式：xxx.to_device(device)"
   ]
  },
  {
   "cell_type": "markdown",
   "id": "1adafdd3",
   "metadata": {
    "papermill": {
     "duration": 0.025621,
     "end_time": "2022-05-19T09:50:00.714666",
     "exception": false,
     "start_time": "2022-05-19T09:50:00.689045",
     "status": "completed"
    },
    "tags": []
   },
   "source": [
    "**数据读入和加载**  \n",
    "这里同时展示两种方式:  \n",
    "- 下载并使用PyTorch提供的内置数据集  \n",
    "- 从网站下载以csv格式存储的数据，读入并转成预期的格式    \n",
    "第一种数据读入方式只适用于常见的数据集，如MNIST，CIFAR10等，PyTorch官方提供了数据下载。这种方式往往适用于快速测试方法（比如测试下某个idea在MNIST数据集上是否有效）  \n",
    "第二种数据读入方式需要自己构建Dataset，这对于PyTorch应用于自己的工作中十分重要  \n",
    "  \n",
    "同时，还需要对数据进行必要的变换，比如说需要将图片统一为一致的大小，以便后续能够输入网络训练；需要将数据格式转为Tensor类，等等。\n",
    "  \n",
    "这些变换可以很方便地借助torchvision包来完成，这是PyTorch官方用于图像处理的工具库，上面提到的使用内置数据集的方式也要用到。PyTorch的一大方便之处就在于它是一整套“生态”，有着官方和第三方各个领域的支持。这些内容我们会在后续课程中详细介绍。"
   ]
  },
  {
   "cell_type": "code",
   "execution_count": 4,
   "id": "2a18b84e",
   "metadata": {
    "execution": {
     "iopub.execute_input": "2022-05-19T09:50:00.767058Z",
     "iopub.status.busy": "2022-05-19T09:50:00.766870Z",
     "iopub.status.idle": "2022-05-19T09:50:00.978744Z",
     "shell.execute_reply": "2022-05-19T09:50:00.978054Z"
    },
    "papermill": {
     "duration": 0.240172,
     "end_time": "2022-05-19T09:50:00.980559",
     "exception": false,
     "start_time": "2022-05-19T09:50:00.740387",
     "status": "completed"
    },
    "tags": []
   },
   "outputs": [],
   "source": [
    "# 首先设置数据变换\n",
    "from torchvision import transforms\n",
    "# An MNIST-like dataset of 70,000 28x28 labeled fashion images\n",
    "image_size = 28 #这里是为了更好的匹配使用的模型（应该也可以不使用28，可以试一下，看看acc），使用的模型是针对minist手写数字设计的，而minist数据集中华图片的大小就是28\n",
    "data_transform = transforms.Compose([\n",
    "    transforms.ToPILImage(),   # 这一步取决于后续的数据读取方式，如果使用内置数据集则不需要，它已经帮助实现了这个操作。PILImag是pytorch内置的图片的形式\n",
    "    transforms.Resize(image_size),\n",
    "    transforms.ToTensor()\n",
    "])"
   ]
  },
  {
   "cell_type": "code",
   "execution_count": 5,
   "id": "f264d5c3",
   "metadata": {
    "execution": {
     "iopub.execute_input": "2022-05-19T09:50:01.035891Z",
     "iopub.status.busy": "2022-05-19T09:50:01.035668Z",
     "iopub.status.idle": "2022-05-19T09:50:01.038792Z",
     "shell.execute_reply": "2022-05-19T09:50:01.038143Z"
    },
    "papermill": {
     "duration": 0.033214,
     "end_time": "2022-05-19T09:50:01.040418",
     "exception": false,
     "start_time": "2022-05-19T09:50:01.007204",
     "status": "completed"
    },
    "scrolled": true,
    "tags": []
   },
   "outputs": [],
   "source": [
    "# ## 读取方式一：使用torchvision自带数据集，下载可能需要一段时间\n",
    "# from torchvision import datasets\n",
    "\n",
    "# train_data = datasets.FashionMNIST(root='./', train=True, download=True, transform=data_transform)  # FashionMNIST可以换成pytorch中有的数据集，如MINIST \n",
    "# test_data = datasets.FashionMNIST(root='./', train=False, download=True, transform=data_transform)"
   ]
  },
  {
   "cell_type": "code",
   "execution_count": 6,
   "id": "20e189d6",
   "metadata": {
    "execution": {
     "iopub.execute_input": "2022-05-19T09:50:01.093433Z",
     "iopub.status.busy": "2022-05-19T09:50:01.093236Z",
     "iopub.status.idle": "2022-05-19T09:50:01.096374Z",
     "shell.execute_reply": "2022-05-19T09:50:01.095698Z"
    },
    "papermill": {
     "duration": 0.031775,
     "end_time": "2022-05-19T09:50:01.098028",
     "exception": false,
     "start_time": "2022-05-19T09:50:01.066253",
     "status": "completed"
    },
    "tags": []
   },
   "outputs": [],
   "source": [
    "# train_data"
   ]
  },
  {
   "cell_type": "code",
   "execution_count": 7,
   "id": "6946e409",
   "metadata": {
    "execution": {
     "iopub.execute_input": "2022-05-19T09:50:01.151270Z",
     "iopub.status.busy": "2022-05-19T09:50:01.151087Z",
     "iopub.status.idle": "2022-05-19T09:50:07.037145Z",
     "shell.execute_reply": "2022-05-19T09:50:07.036375Z"
    },
    "papermill": {
     "duration": 5.914844,
     "end_time": "2022-05-19T09:50:07.039237",
     "exception": false,
     "start_time": "2022-05-19T09:50:01.124393",
     "status": "completed"
    },
    "scrolled": true,
    "tags": []
   },
   "outputs": [],
   "source": [
    "## 读取方式二：读入csv格式的数据，自行构建Dataset类\n",
    "# csv数据下载链接：https://www.kaggle.com/zalando-research/fashionmnist\n",
    "class FMDataset(Dataset):                            #向量形式转换为图片形式，继承官方的Dataset类\n",
    "    def __init__(self, df, transform=None):\n",
    "        self.df = df\n",
    "        self.transform = transform\n",
    "        self.images = df.iloc[:,1:].values.astype(np.uint8)  # 得到所有的图片数据 #uint8是一个图像的格式，matplotlib提供了特殊的数据类型uint8(8位无符号整数），以此方式存储的图像称作8位图像。\n",
    "        #unsigned char，数据范围在0~255之间，非常适合于存放图像数据。比如我们通过opencv读取一幅灰度影像，可以用一个uint8数组来保存灰度影像每个像素的灰度值。\n",
    "        self.labels = df.iloc[:, 0].values\n",
    "        \n",
    "    def __len__(self):\n",
    "        return len(self.images)   #图片个数\n",
    "    \n",
    "    def __getitem__(self, idx):              #很重要，决定了Dataset是怎样构建的。在self.images中得到的是多有的图像。idx默认从第一条到最后一条。逐个获得每张图片。一个image和一个label就是一个pair，组合的关系\n",
    "        image = self.images[idx].reshape(28,28,1) #强行加了一个1，单通道\n",
    "        label = int(self.labels[idx])          #self.images和self.labels是dataframe形式，使用时根据索引idx取出对应的数据\n",
    "        if self.transform is not None:\n",
    "            image = self.transform(image)\n",
    "        else:\n",
    "            image = torch.tensor(image/255., dtype=torch.float)    #归一化\n",
    "        label = torch.tensor(label, dtype=torch.long)\n",
    "        return image, label\n",
    "\n",
    "train_df = pd.read_csv(\"../input/ministfashion/fashion-mnist_train.csv\") # 图片的表格形式\n",
    "test_df = pd.read_csv(\"../input/ministfashion/fashion-mnist_test.csv\")\n",
    "train_data = FMDataset(train_df, data_transform)    #构建训练集（60000个样本）和测试集（10000个样本）\n",
    "test_data = FMDataset(test_df, data_transform)\n",
    "# 实现的目标就是将csv的每一行（一张图片，此处不包含标签）变成了有一个28*28*1的tensor\n"
   ]
  },
  {
   "cell_type": "code",
   "execution_count": 8,
   "id": "a2a191ce",
   "metadata": {
    "execution": {
     "iopub.execute_input": "2022-05-19T09:50:07.094022Z",
     "iopub.status.busy": "2022-05-19T09:50:07.093792Z",
     "iopub.status.idle": "2022-05-19T09:50:07.100261Z",
     "shell.execute_reply": "2022-05-19T09:50:07.099636Z"
    },
    "papermill": {
     "duration": 0.035969,
     "end_time": "2022-05-19T09:50:07.102243",
     "exception": false,
     "start_time": "2022-05-19T09:50:07.066274",
     "status": "completed"
    },
    "tags": []
   },
   "outputs": [
    {
     "data": {
      "text/plain": [
       "60000"
      ]
     },
     "execution_count": 8,
     "metadata": {},
     "output_type": "execute_result"
    }
   ],
   "source": [
    "train_data.__len__()"
   ]
  },
  {
   "cell_type": "code",
   "execution_count": 9,
   "id": "d332d42b",
   "metadata": {
    "execution": {
     "iopub.execute_input": "2022-05-19T09:50:07.155477Z",
     "iopub.status.busy": "2022-05-19T09:50:07.155280Z",
     "iopub.status.idle": "2022-05-19T09:50:07.165301Z",
     "shell.execute_reply": "2022-05-19T09:50:07.164680Z"
    },
    "papermill": {
     "duration": 0.040046,
     "end_time": "2022-05-19T09:50:07.168520",
     "exception": false,
     "start_time": "2022-05-19T09:50:07.128474",
     "status": "completed"
    },
    "tags": []
   },
   "outputs": [
    {
     "name": "stdout",
     "output_type": "stream",
     "text": [
      "tensor([[[0.0000, 0.0000, 0.0000, 0.0000, 0.0000, 0.0000, 0.0000, 0.0000,\n",
      "          0.0000, 0.0000, 0.0000, 0.0000, 0.0000, 0.0000, 0.0000, 0.0000,\n",
      "          0.0000, 0.0000, 0.0000, 0.0000, 0.0000, 0.0000, 0.0000, 0.0000,\n",
      "          0.0000, 0.0000, 0.0000, 0.0000],\n",
      "         [0.0000, 0.0000, 0.0000, 0.0000, 0.0000, 0.0000, 0.0000, 0.0000,\n",
      "          0.0000, 0.0000, 0.0000, 0.0000, 0.0000, 0.0000, 0.0000, 0.0000,\n",
      "          0.0000, 0.0000, 0.0000, 0.0000, 0.0000, 0.0000, 0.0000, 0.0000,\n",
      "          0.0000, 0.0000, 0.0000, 0.0000],\n",
      "         [0.0000, 0.0000, 0.0000, 0.0000, 0.0000, 0.0000, 0.0000, 0.0000,\n",
      "          0.0000, 0.0000, 0.0000, 0.0000, 0.0000, 0.0000, 0.0000, 0.0000,\n",
      "          0.0000, 0.0000, 0.0000, 0.0000, 0.0000, 0.0000, 0.0000, 0.0000,\n",
      "          0.0000, 0.0000, 0.0000, 0.0000],\n",
      "         [0.0000, 0.0000, 0.0000, 0.0000, 0.0157, 0.0000, 0.0000, 0.0000,\n",
      "          0.0000, 0.0000, 0.2431, 0.2392, 0.0824, 0.1137, 0.0902, 0.2000,\n",
      "          0.5333, 0.2392, 0.0000, 0.0000, 0.0000, 0.0000, 0.0000, 0.0000,\n",
      "          0.0000, 0.0000, 0.0000, 0.0000],\n",
      "         [0.0000, 0.0000, 0.0000, 0.0000, 0.0000, 0.0000, 0.0000, 0.3451,\n",
      "          0.7882, 0.8941, 0.8824, 1.0000, 0.4510, 0.2431, 0.5373, 1.0000,\n",
      "          0.9216, 0.8706, 1.0000, 0.5294, 0.0000, 0.0000, 0.0000, 0.0000,\n",
      "          0.0000, 0.0000, 0.0000, 0.0000],\n",
      "         [0.0000, 0.0000, 0.0000, 0.0000, 0.0000, 0.1843, 0.9882, 0.9176,\n",
      "          0.9333, 0.8784, 0.8431, 0.8431, 0.8980, 0.4235, 0.7059, 0.8118,\n",
      "          0.8392, 0.8784, 0.9059, 0.9765, 0.9961, 0.1765, 0.0000, 0.0000,\n",
      "          0.0000, 0.0000, 0.0000, 0.0000],\n",
      "         [0.0000, 0.0000, 0.0039, 0.0000, 0.0000, 0.8392, 0.8706, 0.8235,\n",
      "          0.8353, 0.8784, 0.8824, 0.8510, 0.8627, 0.9961, 0.9137, 0.8588,\n",
      "          0.8667, 0.8510, 0.8745, 0.8667, 0.9412, 0.9961, 0.0000, 0.0000,\n",
      "          0.0039, 0.0000, 0.0000, 0.0000],\n",
      "         [0.0039, 0.0000, 0.0000, 0.0000, 0.5020, 0.9294, 0.8118, 0.8784,\n",
      "          0.8784, 0.8118, 0.8471, 0.8392, 0.8235, 0.8157, 0.8275, 0.8667,\n",
      "          0.8157, 0.8588, 0.8353, 0.8863, 0.8275, 0.9294, 0.5882, 0.0000,\n",
      "          0.0000, 0.0000, 0.0000, 0.0000],\n",
      "         [0.0000, 0.0078, 0.0000, 0.0000, 0.9294, 0.8706, 0.8431, 0.8118,\n",
      "          0.8235, 0.8314, 0.8353, 0.8078, 0.8392, 0.8353, 0.8392, 0.8353,\n",
      "          0.8235, 0.8431, 0.8392, 0.8078, 0.7804, 0.8549, 1.0000, 0.0510,\n",
      "          0.0000, 0.0078, 0.0000, 0.0000],\n",
      "         [0.0000, 0.0157, 0.0000, 0.3333, 0.8941, 0.8235, 0.8549, 0.7843,\n",
      "          0.8275, 0.8157, 0.7961, 0.8431, 0.8235, 0.8196, 0.8196, 0.8235,\n",
      "          0.8353, 0.8275, 0.8235, 0.8510, 0.8078, 0.8353, 0.9059, 0.6863,\n",
      "          0.0000, 0.0000, 0.0000, 0.0000],\n",
      "         [0.0000, 0.0000, 0.0000, 0.8510, 0.8784, 0.8431, 0.8078, 0.8039,\n",
      "          0.8000, 0.8510, 0.9020, 0.8706, 0.8431, 0.8784, 0.9137, 0.8941,\n",
      "          0.9098, 0.8941, 0.8784, 0.8118, 0.8314, 0.8431, 0.8353, 0.8980,\n",
      "          0.1216, 0.0000, 0.0157, 0.0000],\n",
      "         [0.0039, 0.0000, 0.0824, 0.8824, 0.8314, 0.8314, 0.7961, 0.8275,\n",
      "          0.8824, 0.7569, 0.5451, 0.5333, 0.7647, 0.5765, 0.6118, 0.5451,\n",
      "          0.5020, 0.6353, 0.7725, 0.8745, 0.8118, 0.8627, 0.8353, 0.9098,\n",
      "          0.6941, 0.0000, 0.0000, 0.0000],\n",
      "         [0.0000, 0.0000, 0.4824, 0.8863, 0.8118, 0.8275, 0.8196, 0.8039,\n",
      "          0.8941, 0.6196, 0.3529, 0.4039, 0.7294, 0.5412, 0.3922, 0.4745,\n",
      "          0.5765, 0.6196, 0.7176, 0.8863, 0.8157, 0.8392, 0.8196, 0.8471,\n",
      "          1.0000, 0.0510, 0.0000, 0.0039],\n",
      "         [0.0000, 0.0000, 0.8863, 0.8588, 0.7922, 0.8157, 0.8078, 0.8039,\n",
      "          0.8471, 0.7216, 0.6118, 0.5882, 0.7569, 0.6667, 0.6431, 0.6588,\n",
      "          0.7373, 0.7294, 0.7843, 0.8588, 0.8471, 0.8353, 0.8353, 0.8275,\n",
      "          0.9137, 0.5804, 0.0000, 0.0000],\n",
      "         [0.0000, 0.1765, 0.8902, 0.8000, 0.8392, 0.8275, 0.8549, 0.8706,\n",
      "          0.8667, 0.9020, 0.8980, 0.8667, 0.8353, 0.8784, 0.9137, 0.8863,\n",
      "          0.8627, 0.8588, 0.8667, 0.8784, 0.8745, 0.8510, 0.8235, 0.8549,\n",
      "          0.8353, 0.9961, 0.0000, 0.0000],\n",
      "         [0.0000, 0.6157, 0.8863, 0.7961, 0.8118, 0.8275, 0.8196, 0.8431,\n",
      "          0.8039, 0.7765, 0.8118, 0.8157, 0.7882, 0.7882, 0.7725, 0.7961,\n",
      "          0.8039, 0.8235, 0.8118, 0.8353, 0.8392, 0.8392, 0.8392, 0.8353,\n",
      "          0.8157, 0.9176, 0.4196, 0.0000],\n",
      "         [0.0000, 0.9216, 0.8353, 0.8000, 0.8275, 0.8235, 0.8196, 0.8353,\n",
      "          0.7922, 0.7725, 0.8000, 0.8431, 0.8510, 0.8353, 0.8314, 0.8235,\n",
      "          0.8078, 0.8314, 0.7961, 0.8275, 0.8549, 0.8431, 0.8392, 0.8157,\n",
      "          0.8196, 0.8706, 0.9020, 0.0000],\n",
      "         [0.2039, 1.0000, 0.8118, 0.7843, 0.8157, 0.8353, 0.8235, 0.8235,\n",
      "          0.8157, 0.8118, 0.7922, 0.7882, 0.8196, 0.8471, 0.8471, 0.8471,\n",
      "          0.8471, 0.8392, 0.8314, 0.8039, 0.8431, 0.7882, 0.8941, 0.8157,\n",
      "          0.8392, 0.8314, 0.8549, 0.0980],\n",
      "         [0.4627, 0.8510, 0.7882, 0.8078, 0.8157, 0.8353, 0.8157, 0.8039,\n",
      "          0.8078, 0.8235, 0.8275, 0.7922, 0.7804, 0.8118, 0.8157, 0.8196,\n",
      "          0.8235, 0.8118, 0.8235, 0.8235, 0.9608, 0.5451, 0.4667, 1.0000,\n",
      "          0.7922, 0.7961, 0.9255, 0.4471],\n",
      "         [0.6706, 0.9333, 0.8314, 0.7961, 0.8627, 0.8471, 0.8510, 0.8196,\n",
      "          0.8118, 0.8039, 0.8235, 0.8275, 0.8078, 0.8000, 0.8078, 0.8196,\n",
      "          0.8275, 0.8431, 0.8235, 0.8078, 0.8667, 0.9490, 0.0000, 0.8784,\n",
      "          0.9176, 0.9020, 0.7098, 0.1020],\n",
      "         [0.1529, 0.5686, 0.7882, 1.0000, 0.6157, 0.4510, 0.9804, 0.7843,\n",
      "          0.8118, 0.8078, 0.8118, 0.8353, 0.8471, 0.8078, 0.8039, 0.8078,\n",
      "          0.8118, 0.8078, 0.8431, 0.8118, 0.8667, 0.9333, 0.0000, 0.0000,\n",
      "          0.7373, 0.3333, 0.0000, 0.0000],\n",
      "         [0.0000, 0.0000, 0.0000, 0.1216, 0.0000, 0.5059, 0.9922, 0.7451,\n",
      "          0.8118, 0.8157, 0.8157, 0.8157, 0.8196, 0.8275, 0.8275, 0.8196,\n",
      "          0.8196, 0.8196, 0.8314, 0.7882, 0.8863, 0.6471, 0.0000, 0.0000,\n",
      "          0.0000, 0.0000, 0.0000, 0.0000],\n",
      "         [0.0078, 0.0000, 0.0000, 0.0000, 0.0000, 0.3490, 0.9961, 0.7804,\n",
      "          0.7804, 0.7529, 0.7686, 0.7765, 0.7804, 0.7882, 0.7922, 0.7961,\n",
      "          0.8000, 0.7961, 0.7961, 0.7843, 0.8706, 0.6078, 0.0000, 0.0118,\n",
      "          0.0118, 0.0118, 0.0078, 0.0000],\n",
      "         [0.0000, 0.0000, 0.0039, 0.0196, 0.0000, 0.0000, 1.0000, 0.8549,\n",
      "          0.8863, 0.9098, 0.8941, 0.8784, 0.8706, 0.8627, 0.8588, 0.8588,\n",
      "          0.8510, 0.8667, 0.8627, 0.8314, 0.9255, 0.3725, 0.0000, 0.0078,\n",
      "          0.0000, 0.0000, 0.0000, 0.0000],\n",
      "         [0.0000, 0.0000, 0.0000, 0.0000, 0.0000, 0.0000, 0.6078, 0.7608,\n",
      "          0.6588, 0.6667, 0.6706, 0.6784, 0.6784, 0.7020, 0.6941, 0.6863,\n",
      "          0.6745, 0.6706, 0.6549, 0.6314, 0.7059, 0.0000, 0.0000, 0.0039,\n",
      "          0.0000, 0.0039, 0.0000, 0.0000],\n",
      "         [0.0000, 0.0000, 0.0000, 0.0000, 0.0000, 0.0000, 0.0000, 0.0000,\n",
      "          0.0000, 0.0000, 0.0000, 0.0000, 0.0000, 0.0000, 0.0000, 0.0000,\n",
      "          0.0000, 0.0000, 0.0000, 0.0000, 0.0000, 0.0000, 0.0000, 0.0000,\n",
      "          0.0000, 0.0000, 0.0000, 0.0000],\n",
      "         [0.0000, 0.0000, 0.0000, 0.0000, 0.0000, 0.0000, 0.0000, 0.0000,\n",
      "          0.0000, 0.0000, 0.0000, 0.0000, 0.0000, 0.0000, 0.0000, 0.0000,\n",
      "          0.0000, 0.0000, 0.0000, 0.0000, 0.0000, 0.0000, 0.0000, 0.0000,\n",
      "          0.0000, 0.0000, 0.0000, 0.0000],\n",
      "         [0.0000, 0.0000, 0.0000, 0.0000, 0.0000, 0.0000, 0.0000, 0.0000,\n",
      "          0.0000, 0.0000, 0.0000, 0.0000, 0.0000, 0.0000, 0.0000, 0.0000,\n",
      "          0.0000, 0.0000, 0.0000, 0.0000, 0.0000, 0.0000, 0.0000, 0.0000,\n",
      "          0.0000, 0.0000, 0.0000, 0.0000]]])\n",
      "tensor(2)\n"
     ]
    }
   ],
   "source": [
    "image_test,label_test = train_data.__getitem__(0)\n",
    "print(image_test) # 一张图片，二维数组28*28\n",
    "print(label_test) # tensor(2)，属于第2类"
   ]
  },
  {
   "cell_type": "code",
   "execution_count": 10,
   "id": "db88a2cf",
   "metadata": {
    "execution": {
     "iopub.execute_input": "2022-05-19T09:50:07.223209Z",
     "iopub.status.busy": "2022-05-19T09:50:07.223019Z",
     "iopub.status.idle": "2022-05-19T09:50:07.247007Z",
     "shell.execute_reply": "2022-05-19T09:50:07.246225Z"
    },
    "papermill": {
     "duration": 0.053723,
     "end_time": "2022-05-19T09:50:07.249079",
     "exception": false,
     "start_time": "2022-05-19T09:50:07.195356",
     "status": "completed"
    },
    "tags": []
   },
   "outputs": [
    {
     "data": {
      "text/html": [
       "<div>\n",
       "<style scoped>\n",
       "    .dataframe tbody tr th:only-of-type {\n",
       "        vertical-align: middle;\n",
       "    }\n",
       "\n",
       "    .dataframe tbody tr th {\n",
       "        vertical-align: top;\n",
       "    }\n",
       "\n",
       "    .dataframe thead th {\n",
       "        text-align: right;\n",
       "    }\n",
       "</style>\n",
       "<table border=\"1\" class=\"dataframe\">\n",
       "  <thead>\n",
       "    <tr style=\"text-align: right;\">\n",
       "      <th></th>\n",
       "      <th>label</th>\n",
       "      <th>pixel1</th>\n",
       "      <th>pixel2</th>\n",
       "      <th>pixel3</th>\n",
       "      <th>pixel4</th>\n",
       "      <th>pixel5</th>\n",
       "      <th>pixel6</th>\n",
       "      <th>pixel7</th>\n",
       "      <th>pixel8</th>\n",
       "      <th>pixel9</th>\n",
       "      <th>...</th>\n",
       "      <th>pixel775</th>\n",
       "      <th>pixel776</th>\n",
       "      <th>pixel777</th>\n",
       "      <th>pixel778</th>\n",
       "      <th>pixel779</th>\n",
       "      <th>pixel780</th>\n",
       "      <th>pixel781</th>\n",
       "      <th>pixel782</th>\n",
       "      <th>pixel783</th>\n",
       "      <th>pixel784</th>\n",
       "    </tr>\n",
       "  </thead>\n",
       "  <tbody>\n",
       "    <tr>\n",
       "      <th>0</th>\n",
       "      <td>2</td>\n",
       "      <td>0</td>\n",
       "      <td>0</td>\n",
       "      <td>0</td>\n",
       "      <td>0</td>\n",
       "      <td>0</td>\n",
       "      <td>0</td>\n",
       "      <td>0</td>\n",
       "      <td>0</td>\n",
       "      <td>0</td>\n",
       "      <td>...</td>\n",
       "      <td>0</td>\n",
       "      <td>0</td>\n",
       "      <td>0</td>\n",
       "      <td>0</td>\n",
       "      <td>0</td>\n",
       "      <td>0</td>\n",
       "      <td>0</td>\n",
       "      <td>0</td>\n",
       "      <td>0</td>\n",
       "      <td>0</td>\n",
       "    </tr>\n",
       "    <tr>\n",
       "      <th>1</th>\n",
       "      <td>9</td>\n",
       "      <td>0</td>\n",
       "      <td>0</td>\n",
       "      <td>0</td>\n",
       "      <td>0</td>\n",
       "      <td>0</td>\n",
       "      <td>0</td>\n",
       "      <td>0</td>\n",
       "      <td>0</td>\n",
       "      <td>0</td>\n",
       "      <td>...</td>\n",
       "      <td>0</td>\n",
       "      <td>0</td>\n",
       "      <td>0</td>\n",
       "      <td>0</td>\n",
       "      <td>0</td>\n",
       "      <td>0</td>\n",
       "      <td>0</td>\n",
       "      <td>0</td>\n",
       "      <td>0</td>\n",
       "      <td>0</td>\n",
       "    </tr>\n",
       "    <tr>\n",
       "      <th>2</th>\n",
       "      <td>6</td>\n",
       "      <td>0</td>\n",
       "      <td>0</td>\n",
       "      <td>0</td>\n",
       "      <td>0</td>\n",
       "      <td>0</td>\n",
       "      <td>0</td>\n",
       "      <td>0</td>\n",
       "      <td>5</td>\n",
       "      <td>0</td>\n",
       "      <td>...</td>\n",
       "      <td>0</td>\n",
       "      <td>0</td>\n",
       "      <td>0</td>\n",
       "      <td>30</td>\n",
       "      <td>43</td>\n",
       "      <td>0</td>\n",
       "      <td>0</td>\n",
       "      <td>0</td>\n",
       "      <td>0</td>\n",
       "      <td>0</td>\n",
       "    </tr>\n",
       "    <tr>\n",
       "      <th>3</th>\n",
       "      <td>0</td>\n",
       "      <td>0</td>\n",
       "      <td>0</td>\n",
       "      <td>0</td>\n",
       "      <td>1</td>\n",
       "      <td>2</td>\n",
       "      <td>0</td>\n",
       "      <td>0</td>\n",
       "      <td>0</td>\n",
       "      <td>0</td>\n",
       "      <td>...</td>\n",
       "      <td>3</td>\n",
       "      <td>0</td>\n",
       "      <td>0</td>\n",
       "      <td>0</td>\n",
       "      <td>0</td>\n",
       "      <td>1</td>\n",
       "      <td>0</td>\n",
       "      <td>0</td>\n",
       "      <td>0</td>\n",
       "      <td>0</td>\n",
       "    </tr>\n",
       "    <tr>\n",
       "      <th>4</th>\n",
       "      <td>3</td>\n",
       "      <td>0</td>\n",
       "      <td>0</td>\n",
       "      <td>0</td>\n",
       "      <td>0</td>\n",
       "      <td>0</td>\n",
       "      <td>0</td>\n",
       "      <td>0</td>\n",
       "      <td>0</td>\n",
       "      <td>0</td>\n",
       "      <td>...</td>\n",
       "      <td>0</td>\n",
       "      <td>0</td>\n",
       "      <td>0</td>\n",
       "      <td>0</td>\n",
       "      <td>0</td>\n",
       "      <td>0</td>\n",
       "      <td>0</td>\n",
       "      <td>0</td>\n",
       "      <td>0</td>\n",
       "      <td>0</td>\n",
       "    </tr>\n",
       "    <tr>\n",
       "      <th>...</th>\n",
       "      <td>...</td>\n",
       "      <td>...</td>\n",
       "      <td>...</td>\n",
       "      <td>...</td>\n",
       "      <td>...</td>\n",
       "      <td>...</td>\n",
       "      <td>...</td>\n",
       "      <td>...</td>\n",
       "      <td>...</td>\n",
       "      <td>...</td>\n",
       "      <td>...</td>\n",
       "      <td>...</td>\n",
       "      <td>...</td>\n",
       "      <td>...</td>\n",
       "      <td>...</td>\n",
       "      <td>...</td>\n",
       "      <td>...</td>\n",
       "      <td>...</td>\n",
       "      <td>...</td>\n",
       "      <td>...</td>\n",
       "      <td>...</td>\n",
       "    </tr>\n",
       "    <tr>\n",
       "      <th>59995</th>\n",
       "      <td>9</td>\n",
       "      <td>0</td>\n",
       "      <td>0</td>\n",
       "      <td>0</td>\n",
       "      <td>0</td>\n",
       "      <td>0</td>\n",
       "      <td>0</td>\n",
       "      <td>0</td>\n",
       "      <td>0</td>\n",
       "      <td>0</td>\n",
       "      <td>...</td>\n",
       "      <td>0</td>\n",
       "      <td>0</td>\n",
       "      <td>0</td>\n",
       "      <td>0</td>\n",
       "      <td>0</td>\n",
       "      <td>0</td>\n",
       "      <td>0</td>\n",
       "      <td>0</td>\n",
       "      <td>0</td>\n",
       "      <td>0</td>\n",
       "    </tr>\n",
       "    <tr>\n",
       "      <th>59996</th>\n",
       "      <td>1</td>\n",
       "      <td>0</td>\n",
       "      <td>0</td>\n",
       "      <td>0</td>\n",
       "      <td>0</td>\n",
       "      <td>0</td>\n",
       "      <td>0</td>\n",
       "      <td>0</td>\n",
       "      <td>0</td>\n",
       "      <td>0</td>\n",
       "      <td>...</td>\n",
       "      <td>73</td>\n",
       "      <td>0</td>\n",
       "      <td>0</td>\n",
       "      <td>0</td>\n",
       "      <td>0</td>\n",
       "      <td>0</td>\n",
       "      <td>0</td>\n",
       "      <td>0</td>\n",
       "      <td>0</td>\n",
       "      <td>0</td>\n",
       "    </tr>\n",
       "    <tr>\n",
       "      <th>59997</th>\n",
       "      <td>8</td>\n",
       "      <td>0</td>\n",
       "      <td>0</td>\n",
       "      <td>0</td>\n",
       "      <td>0</td>\n",
       "      <td>0</td>\n",
       "      <td>0</td>\n",
       "      <td>0</td>\n",
       "      <td>0</td>\n",
       "      <td>0</td>\n",
       "      <td>...</td>\n",
       "      <td>160</td>\n",
       "      <td>162</td>\n",
       "      <td>163</td>\n",
       "      <td>135</td>\n",
       "      <td>94</td>\n",
       "      <td>0</td>\n",
       "      <td>0</td>\n",
       "      <td>0</td>\n",
       "      <td>0</td>\n",
       "      <td>0</td>\n",
       "    </tr>\n",
       "    <tr>\n",
       "      <th>59998</th>\n",
       "      <td>8</td>\n",
       "      <td>0</td>\n",
       "      <td>0</td>\n",
       "      <td>0</td>\n",
       "      <td>0</td>\n",
       "      <td>0</td>\n",
       "      <td>0</td>\n",
       "      <td>0</td>\n",
       "      <td>0</td>\n",
       "      <td>0</td>\n",
       "      <td>...</td>\n",
       "      <td>0</td>\n",
       "      <td>0</td>\n",
       "      <td>0</td>\n",
       "      <td>0</td>\n",
       "      <td>0</td>\n",
       "      <td>0</td>\n",
       "      <td>0</td>\n",
       "      <td>0</td>\n",
       "      <td>0</td>\n",
       "      <td>0</td>\n",
       "    </tr>\n",
       "    <tr>\n",
       "      <th>59999</th>\n",
       "      <td>7</td>\n",
       "      <td>0</td>\n",
       "      <td>0</td>\n",
       "      <td>0</td>\n",
       "      <td>0</td>\n",
       "      <td>0</td>\n",
       "      <td>0</td>\n",
       "      <td>0</td>\n",
       "      <td>0</td>\n",
       "      <td>0</td>\n",
       "      <td>...</td>\n",
       "      <td>0</td>\n",
       "      <td>0</td>\n",
       "      <td>0</td>\n",
       "      <td>0</td>\n",
       "      <td>0</td>\n",
       "      <td>0</td>\n",
       "      <td>0</td>\n",
       "      <td>0</td>\n",
       "      <td>0</td>\n",
       "      <td>0</td>\n",
       "    </tr>\n",
       "  </tbody>\n",
       "</table>\n",
       "<p>60000 rows × 785 columns</p>\n",
       "</div>"
      ],
      "text/plain": [
       "       label  pixel1  pixel2  pixel3  pixel4  pixel5  pixel6  pixel7  pixel8  \\\n",
       "0          2       0       0       0       0       0       0       0       0   \n",
       "1          9       0       0       0       0       0       0       0       0   \n",
       "2          6       0       0       0       0       0       0       0       5   \n",
       "3          0       0       0       0       1       2       0       0       0   \n",
       "4          3       0       0       0       0       0       0       0       0   \n",
       "...      ...     ...     ...     ...     ...     ...     ...     ...     ...   \n",
       "59995      9       0       0       0       0       0       0       0       0   \n",
       "59996      1       0       0       0       0       0       0       0       0   \n",
       "59997      8       0       0       0       0       0       0       0       0   \n",
       "59998      8       0       0       0       0       0       0       0       0   \n",
       "59999      7       0       0       0       0       0       0       0       0   \n",
       "\n",
       "       pixel9  ...  pixel775  pixel776  pixel777  pixel778  pixel779  \\\n",
       "0           0  ...         0         0         0         0         0   \n",
       "1           0  ...         0         0         0         0         0   \n",
       "2           0  ...         0         0         0        30        43   \n",
       "3           0  ...         3         0         0         0         0   \n",
       "4           0  ...         0         0         0         0         0   \n",
       "...       ...  ...       ...       ...       ...       ...       ...   \n",
       "59995       0  ...         0         0         0         0         0   \n",
       "59996       0  ...        73         0         0         0         0   \n",
       "59997       0  ...       160       162       163       135        94   \n",
       "59998       0  ...         0         0         0         0         0   \n",
       "59999       0  ...         0         0         0         0         0   \n",
       "\n",
       "       pixel780  pixel781  pixel782  pixel783  pixel784  \n",
       "0             0         0         0         0         0  \n",
       "1             0         0         0         0         0  \n",
       "2             0         0         0         0         0  \n",
       "3             1         0         0         0         0  \n",
       "4             0         0         0         0         0  \n",
       "...         ...       ...       ...       ...       ...  \n",
       "59995         0         0         0         0         0  \n",
       "59996         0         0         0         0         0  \n",
       "59997         0         0         0         0         0  \n",
       "59998         0         0         0         0         0  \n",
       "59999         0         0         0         0         0  \n",
       "\n",
       "[60000 rows x 785 columns]"
      ]
     },
     "execution_count": 10,
     "metadata": {},
     "output_type": "execute_result"
    }
   ],
   "source": [
    "train_df # 1列label + 784列像素值"
   ]
  },
  {
   "cell_type": "markdown",
   "id": "2bc8cd27",
   "metadata": {
    "papermill": {
     "duration": 0.027251,
     "end_time": "2022-05-19T09:50:07.305447",
     "exception": false,
     "start_time": "2022-05-19T09:50:07.278196",
     "status": "completed"
    },
    "tags": []
   },
   "source": [
    "在构建训练和测试数据集完成后，需要定义DataLoader类，以便在训练和测试时加载数据  \n"
   ]
  },
  {
   "cell_type": "code",
   "execution_count": 11,
   "id": "27b7fc94",
   "metadata": {
    "execution": {
     "iopub.execute_input": "2022-05-19T09:50:07.361640Z",
     "iopub.status.busy": "2022-05-19T09:50:07.361421Z",
     "iopub.status.idle": "2022-05-19T09:50:07.367203Z",
     "shell.execute_reply": "2022-05-19T09:50:07.366571Z"
    },
    "papermill": {
     "duration": 0.0362,
     "end_time": "2022-05-19T09:50:07.368811",
     "exception": false,
     "start_time": "2022-05-19T09:50:07.332611",
     "status": "completed"
    },
    "tags": []
   },
   "outputs": [],
   "source": [
    "#在构建训练和测试数据集完成后，需要定义DataLoader类，以便在训练和测试时加载数据.加载数据时，每次加载一个批量的数据\n",
    "train_loader = DataLoader(train_data, batch_size=batch_size, shuffle=True, num_workers=num_workers, drop_last=True)   #shuffle表示打乱，正常情况下idx是从0到最大，现在不是了。训练集使用shuff避免训练集数据的输入顺序对结果造成影响。lenum_workers表示用多少个线程读取数据。\n",
    "test_loader = DataLoader(test_data, batch_size=batch_size, shuffle=False, num_workers=num_workers)                    #训练集中drop_last=True将训练集不满一个batch的数据丢弃，会不会不公平？因为使用了shuffle，每次丢弃的都不一样。如果不丢弃的话，不满一个batch，还训练的话可能会导致一些条件不满足\n",
    "# 这里没有使用DataLoader中的pin_memory，其表示生成的Tensor数据是属于内存中的锁页内存区，这样将Tensor数据转移到GPU中速度就会快一些，默认为False。以空间换时间"
   ]
  },
  {
   "cell_type": "markdown",
   "id": "72652a41",
   "metadata": {
    "papermill": {
     "duration": 0.028717,
     "end_time": "2022-05-19T09:50:07.427197",
     "exception": false,
     "start_time": "2022-05-19T09:50:07.398480",
     "status": "completed"
    },
    "tags": []
   },
   "source": [
    "读入后，我们可以做一些数据可视化操作，主要是验证我们读入的数据是否正确"
   ]
  },
  {
   "cell_type": "code",
   "execution_count": 12,
   "id": "244ca3ce",
   "metadata": {
    "execution": {
     "iopub.execute_input": "2022-05-19T09:50:07.484754Z",
     "iopub.status.busy": "2022-05-19T09:50:07.484507Z",
     "iopub.status.idle": "2022-05-19T09:50:07.966269Z",
     "shell.execute_reply": "2022-05-19T09:50:07.965571Z"
    },
    "papermill": {
     "duration": 0.512567,
     "end_time": "2022-05-19T09:50:07.968190",
     "exception": false,
     "start_time": "2022-05-19T09:50:07.455623",
     "status": "completed"
    },
    "scrolled": true,
    "tags": []
   },
   "outputs": [
    {
     "name": "stdout",
     "output_type": "stream",
     "text": [
      "torch.Size([256, 1, 28, 28]) torch.Size([256])\n"
     ]
    },
    {
     "data": {
      "text/plain": [
       "<matplotlib.image.AxesImage at 0x7f12ccbd6c50>"
      ]
     },
     "execution_count": 12,
     "metadata": {},
     "output_type": "execute_result"
    },
    {
     "data": {
      "image/png": "[encoded data removed]",
      "text/plain": [
       "<Figure size 432x288 with 1 Axes>"
      ]
     },
     "metadata": {
      "needs_background": "light"
     },
     "output_type": "display_data"
    }
   ],
   "source": [
    "image, label = next(iter(train_loader))\n",
    "print(image.shape, label.shape)\n",
    "plt.imshow(image[0][0], cmap=\"gray\")\n",
    "# image是一个批量的图片，\n",
    "# 256是batch_size，1是通道数，28*28图片长和宽\n",
    "# plt.imshow()函数负责对图像进行处理，并显示其格式，但是不能显示。其后跟着plt.show（）才能显示出来，这里使用了魔术方法，而没有使用show()函数。cmap即colormaps,图谱。这里是灰度图"
   ]
  },
  {
   "cell_type": "markdown",
   "id": "6bedbeba",
   "metadata": {
    "papermill": {
     "duration": 0.029334,
     "end_time": "2022-05-19T09:50:08.027032",
     "exception": false,
     "start_time": "2022-05-19T09:50:07.997698",
     "status": "completed"
    },
    "tags": []
   },
   "source": [
    "**模型设计**  \n",
    "由于任务较为简单，这里我们手搭一个CNN，而不考虑当下各种模型的复杂结构  \n",
    "模型构建完成后，将模型放到GPU上用于训练  \n"
   ]
  },
  {
   "cell_type": "code",
   "execution_count": 13,
   "id": "621e79f2",
   "metadata": {
    "execution": {
     "iopub.execute_input": "2022-05-19T09:50:08.086309Z",
     "iopub.status.busy": "2022-05-19T09:50:08.086092Z",
     "iopub.status.idle": "2022-05-19T09:50:08.091075Z",
     "shell.execute_reply": "2022-05-19T09:50:08.090281Z"
    },
    "papermill": {
     "duration": 0.037772,
     "end_time": "2022-05-19T09:50:08.094085",
     "exception": false,
     "start_time": "2022-05-19T09:50:08.056313",
     "status": "completed"
    },
    "tags": []
   },
   "outputs": [
    {
     "name": "stdout",
     "output_type": "stream",
     "text": [
      "Object ` nn.Conv2d()` not found.\n"
     ]
    }
   ],
   "source": [
    "? nn.Conv2d()"
   ]
  },
  {
   "cell_type": "code",
   "execution_count": 14,
   "id": "8544c8f7",
   "metadata": {
    "execution": {
     "iopub.execute_input": "2022-05-19T09:50:08.154193Z",
     "iopub.status.busy": "2022-05-19T09:50:08.153950Z",
     "iopub.status.idle": "2022-05-19T09:50:10.992608Z",
     "shell.execute_reply": "2022-05-19T09:50:10.991497Z"
    },
    "papermill": {
     "duration": 2.872298,
     "end_time": "2022-05-19T09:50:10.995732",
     "exception": false,
     "start_time": "2022-05-19T09:50:08.123434",
     "status": "completed"
    },
    "tags": []
   },
   "outputs": [],
   "source": [
    "class Net(nn.Module):                       # 基于nn.Module来构建自己的模型\n",
    "    def __init__(self):\n",
    "        super(Net, self).__init__()\n",
    "        self.conv = nn.Sequential(         # 卷积层\n",
    "            nn.Conv2d(1, 32, 5),           # 三个参数分别表示输入通道数、输出通道数、卷积核大小。其它参数使用默认值\n",
    "            nn.ReLU(),\n",
    "            nn.MaxPool2d(2, stride=2),\n",
    "            nn.Dropout(0.3),              # 效果应该是有些值设为0\n",
    "            nn.Conv2d(32, 64, 5),\n",
    "            nn.ReLU(),\n",
    "            nn.MaxPool2d(2, stride=2),\n",
    "            nn.Dropout(0.3)\n",
    "        )\n",
    "        self.fc = nn.Sequential(       # 全连接层\n",
    "            nn.Linear(64*4*4, 512),\n",
    "            nn.ReLU(),\n",
    "            nn.Linear(512, 10)    #10类\n",
    "        )\n",
    "        \n",
    "    def forward(self, x):\n",
    "        x = self.conv(x)\n",
    "        x = x.view(-1, 64*4*4)      # flatten层，用来对数组进行展平操作。转换成一维然后传递给全连接层\n",
    "        x = self.fc(x)              #此处没有加softmax，与损失函数的设计有关\n",
    "        # x = nn.functional.normalize(x)\n",
    "        return x\n",
    "\n",
    "model = Net()    # 对类进行实例化\n",
    "model = model.cuda()  # 需要放到gpu上的东西，都要使用.cuda()\n",
    "# model = nn.DataParallel(model).cuda()   # 多卡训练时的写法，之后的课程中会进一步讲解"
   ]
  },
  {
   "cell_type": "markdown",
   "id": "686063cd",
   "metadata": {
    "papermill": {
     "duration": 0.043667,
     "end_time": "2022-05-19T09:50:11.087494",
     "exception": false,
     "start_time": "2022-05-19T09:50:11.043827",
     "status": "completed"
    },
    "tags": []
   },
   "source": [
    "**设定损失函数**  \n",
    "使用torch.nn模块自带的CrossEntropy损失  \n",
    "PyTorch会自动把整数型的label转为one-hot型，用于计算CE loss  \n",
    "这里需要确保label是从0开始的，同时模型不加softmax层（使用logits计算）,这也说明了PyTorch训练中各个部分不是独立的，需要通盘考虑"
   ]
  },
  {
   "cell_type": "code",
   "execution_count": 15,
   "id": "6108ecd3",
   "metadata": {
    "execution": {
     "iopub.execute_input": "2022-05-19T09:50:11.147251Z",
     "iopub.status.busy": "2022-05-19T09:50:11.146966Z",
     "iopub.status.idle": "2022-05-19T09:50:11.150770Z",
     "shell.execute_reply": "2022-05-19T09:50:11.149931Z"
    },
    "papermill": {
     "duration": 0.03604,
     "end_time": "2022-05-19T09:50:11.152658",
     "exception": false,
     "start_time": "2022-05-19T09:50:11.116618",
     "status": "completed"
    },
    "tags": []
   },
   "outputs": [],
   "source": [
    "criterion = nn.CrossEntropyLoss()\n",
    "# criterion = nn.CrossEntropyLoss(weight=[1,1,1,1,3,1,1,1,1,1])  对某个类别训练不满意，加重惩罚。"
   ]
  },
  {
   "cell_type": "markdown",
   "id": "ada324ad",
   "metadata": {
    "papermill": {
     "duration": 0.029081,
     "end_time": "2022-05-19T09:50:11.211012",
     "exception": false,
     "start_time": "2022-05-19T09:50:11.181931",
     "status": "completed"
    },
    "tags": []
   },
   "source": [
    "**设定优化器**  \n",
    "这里我们使用Adam优化器  "
   ]
  },
  {
   "cell_type": "code",
   "execution_count": 16,
   "id": "079584f6",
   "metadata": {
    "execution": {
     "iopub.execute_input": "2022-05-19T09:50:11.270245Z",
     "iopub.status.busy": "2022-05-19T09:50:11.270045Z",
     "iopub.status.idle": "2022-05-19T09:50:11.273710Z",
     "shell.execute_reply": "2022-05-19T09:50:11.273016Z"
    },
    "papermill": {
     "duration": 0.035223,
     "end_time": "2022-05-19T09:50:11.275573",
     "exception": false,
     "start_time": "2022-05-19T09:50:11.240350",
     "status": "completed"
    },
    "tags": []
   },
   "outputs": [],
   "source": [
    "optimizer = optim.Adam(model.parameters(), lr=LR)# 0.001"
   ]
  },
  {
   "cell_type": "markdown",
   "id": "dc6a7d13",
   "metadata": {
    "papermill": {
     "duration": 0.029111,
     "end_time": "2022-05-19T09:50:11.333504",
     "exception": false,
     "start_time": "2022-05-19T09:50:11.304393",
     "status": "completed"
    },
    "tags": []
   },
   "source": [
    "**训练和测试（验证）**  \n",
    "各自封装成函数，方便后续调用  \n",
    "关注两者的主要区别：  \n",
    "- 模型状态设置  \n",
    "- 是否需要初始化优化器\n",
    "- 是否需要将loss传回到网络\n",
    "- 是否需要每步更新optimizer  \n",
    "  \n",
    "此外，对于测试或验证过程，可以计算分类准确率"
   ]
  },
  {
   "cell_type": "code",
   "execution_count": 17,
   "id": "8e98d318",
   "metadata": {
    "execution": {
     "iopub.execute_input": "2022-05-19T09:50:11.393479Z",
     "iopub.status.busy": "2022-05-19T09:50:11.393287Z",
     "iopub.status.idle": "2022-05-19T09:50:11.399843Z",
     "shell.execute_reply": "2022-05-19T09:50:11.399147Z"
    },
    "papermill": {
     "duration": 0.037944,
     "end_time": "2022-05-19T09:50:11.401507",
     "exception": false,
     "start_time": "2022-05-19T09:50:11.363563",
     "status": "completed"
    },
    "tags": []
   },
   "outputs": [],
   "source": [
    "def train(epoch):\n",
    "    model.train()\n",
    "    train_loss = 0\n",
    "    #i = 0\n",
    "    for data, label in train_loader:           #for i,(data, label) in enumerate(train_loader):     这样写会返回batch的编号给i，同时还会返回batch的数据给data和label，是元组的形式。这里不需要对batch级别进行操作，所以没有这么写代码\n",
    "        data, label = data.cuda(), label.cuda() # 由于模型已经放到gpu上了，所以data和label也需要放到gpu上，即.cuda()一下\n",
    "        optimizer.zero_grad()                  # 由于自动求导会导致梯度累加，所以每个batch训练前需要进行梯度清零。放到loss.backward()前面即可\n",
    "        output = model(data)                  # 进行前向传播\n",
    "        loss = criterion(output, label)       # 损失函数计算，得到损失值\n",
    "        loss.backward()                       # 将损失方向传播回去\n",
    "        optimizer.step()                      # 使用优化器更新权值\n",
    "        train_loss += loss.item()*data.size(0) # 训练损失的叠加，一个批量的损失*批量大小\n",
    "        # print(data.size(0)) 256\n",
    "        #i = i+1\n",
    "        #print(i)  1-234 共234个batchsize  234*256=59904,每轮有96张图片未参加训练。三十进行平均时使用的是总的图片数60000\n",
    "    train_loss = train_loss/len(train_loader.dataset) # 对训练损失进行平均。def __len__(self):返回的是有多少张图片.所有图片的损失除以图片的数量\n",
    "    # print(len(train_loader.dataset)) 60000\n",
    "    print('Epoch: {} \\tTraining Loss: {:.6f}'.format(epoch, train_loss))"
   ]
  },
  {
   "cell_type": "code",
   "execution_count": 18,
   "id": "ddda7aa8",
   "metadata": {
    "execution": {
     "iopub.execute_input": "2022-05-19T09:50:11.461833Z",
     "iopub.status.busy": "2022-05-19T09:50:11.461631Z",
     "iopub.status.idle": "2022-05-19T09:50:11.470067Z",
     "shell.execute_reply": "2022-05-19T09:50:11.469339Z"
    },
    "papermill": {
     "duration": 0.040816,
     "end_time": "2022-05-19T09:50:11.471611",
     "exception": false,
     "start_time": "2022-05-19T09:50:11.430795",
     "status": "completed"
    },
    "tags": []
   },
   "outputs": [],
   "source": [
    "def val(epoch):       # 使用验证集调整超参数。这里把测试集当做了验证集Validation set，测试集一般没有label          有点问题\n",
    "    model.eval()      # Sets the module in evaluation mode.将模块设置为评估模式。Model类中没有test()方法\n",
    "    val_loss = 0       # This is equivalent with self.train(False). 这等价于self.train(False)。\n",
    "    gt_labels = []     # 真实的label\n",
    "    pred_labels = []    # 预测的label\n",
    "    with torch.no_grad():  # 不做梯度的计算   没有 optimizer.zero_grad()   loss.backward()   验证集不做参数的更新 optimizer.step()\n",
    "        for data, label in test_loader: # 每一次for循环是在运行一个batch的数据。每次从test_loader中取出一个batch的数据，共40个batch（39+1）\n",
    "            data, label = data.cuda(), label.cuda()\n",
    "            output = model(data)                          # output256维，一共10类数据。传入一个batchsize的数据后，nn.mMoudle类默认返回神经网络的输出（预测）？Yes\n",
    "            # print(output)                               # 定义好模型后，直接向model传入参数，就会执行forward方法，并返回forward方法的返回值\n",
    "            # print(type(output))                         # <class 'torch.Tensor'>\n",
    "            # print(output.shape)                         # torch.Size([256, 10] torch.Size([16, 10]) 39*256=9984 +16 =10000\n",
    "            # print(len(label))                           # 39个256,1个16\n",
    "            preds = torch.argmax(output, 1)               # argmax函数：torch.argmax(input, dim=None, keepdim=False) 返回指定维度最大值的序号\n",
    "            gt_labels.append(label.cpu().data.numpy())    # list.append(obj) 参数 obj -- 添加到列表末尾的对象。\n",
    "            pred_labels.append(preds.cpu().data.numpy())  # 将batch中的所有preds拼起来\n",
    "            # print(pred_labels)                          # 注意列表初始值是[]，一个空列表。array的列表，[array([0...]), array([4...])] 一点点增加，最后列表中有40个array，对应40个batch。前39个array有256个数值，最后一个有16个数值\n",
    "            loss = criterion(output, label)\n",
    "            val_loss += loss.item()*data.size(0)\n",
    "            # print(len(gt_labels)) # gt_labels是一个list 没有shpe、size属性\n",
    "    val_loss = val_loss/len(test_loader.dataset)\n",
    "    #print(len(pred_labels))  # pred_labels是list. 40，因为一个epoch有40个batch\n",
    "    gt_labels, pred_labels = np.concatenate(gt_labels), np.concatenate(pred_labels) # np.concatenate() 是numpy中对array进行拼接的函数。默认axis=0，按照第一个维度进行拼接。将列表中的数组进行拼接。数组只有1个维度\n",
    "    # print(pred_labels)\n",
    "    # print(pred_labels.shape)    # (10000,)\n",
    "    acc = np.sum(gt_labels==pred_labels)/len(pred_labels)     # 验证过程可以计算一些指标，此处计算了精度\n",
    "    print('Epoch: {} \\tValidation Loss: {:.6f}, Accuracy: {:6f}'.format(epoch, val_loss, acc))"
   ]
  },
  {
   "cell_type": "code",
   "execution_count": 19,
   "id": "d9f7a881",
   "metadata": {
    "execution": {
     "iopub.execute_input": "2022-05-19T09:50:11.534374Z",
     "iopub.status.busy": "2022-05-19T09:50:11.534156Z",
     "iopub.status.idle": "2022-05-19T09:54:31.015851Z",
     "shell.execute_reply": "2022-05-19T09:54:31.013830Z"
    },
    "papermill": {
     "duration": 259.516264,
     "end_time": "2022-05-19T09:54:31.017964",
     "exception": false,
     "start_time": "2022-05-19T09:50:11.501700",
     "status": "completed"
    },
    "tags": []
   },
   "outputs": [
    {
     "name": "stdout",
     "output_type": "stream",
     "text": [
      "Epoch: 1 \tTraining Loss: 0.663999\n",
      "Epoch: 1 \tValidation Loss: 0.444503, Accuracy: 0.834600\n",
      "Epoch: 2 \tTraining Loss: 0.424221\n",
      "Epoch: 2 \tValidation Loss: 0.352749, Accuracy: 0.874500\n",
      "Epoch: 3 \tTraining Loss: 0.364010\n",
      "Epoch: 3 \tValidation Loss: 0.296667, Accuracy: 0.892300\n",
      "Epoch: 4 \tTraining Loss: 0.330618\n",
      "Epoch: 4 \tValidation Loss: 0.287453, Accuracy: 0.897000\n",
      "Epoch: 5 \tTraining Loss: 0.308578\n",
      "Epoch: 5 \tValidation Loss: 0.285898, Accuracy: 0.894600\n",
      "Epoch: 6 \tTraining Loss: 0.287796\n",
      "Epoch: 6 \tValidation Loss: 0.260686, Accuracy: 0.905700\n",
      "Epoch: 7 \tTraining Loss: 0.275459\n",
      "Epoch: 7 \tValidation Loss: 0.247671, Accuracy: 0.909500\n",
      "Epoch: 8 \tTraining Loss: 0.261811\n",
      "Epoch: 8 \tValidation Loss: 0.234977, Accuracy: 0.913400\n",
      "Epoch: 9 \tTraining Loss: 0.251967\n",
      "Epoch: 9 \tValidation Loss: 0.231116, Accuracy: 0.915100\n",
      "Epoch: 10 \tTraining Loss: 0.245096\n",
      "Epoch: 10 \tValidation Loss: 0.216938, Accuracy: 0.918300\n",
      "Epoch: 11 \tTraining Loss: 0.233295\n",
      "Epoch: 11 \tValidation Loss: 0.210200, Accuracy: 0.923400\n",
      "Epoch: 12 \tTraining Loss: 0.223508\n",
      "Epoch: 12 \tValidation Loss: 0.210720, Accuracy: 0.920700\n",
      "Epoch: 13 \tTraining Loss: 0.217800\n",
      "Epoch: 13 \tValidation Loss: 0.221415, Accuracy: 0.916200\n",
      "Epoch: 14 \tTraining Loss: 0.211996\n",
      "Epoch: 14 \tValidation Loss: 0.206928, Accuracy: 0.923100\n",
      "Epoch: 15 \tTraining Loss: 0.203751\n",
      "Epoch: 15 \tValidation Loss: 0.206265, Accuracy: 0.921900\n",
      "Epoch: 16 \tTraining Loss: 0.197012\n",
      "Epoch: 16 \tValidation Loss: 0.198406, Accuracy: 0.926700\n",
      "Epoch: 17 \tTraining Loss: 0.192868\n",
      "Epoch: 17 \tValidation Loss: 0.206247, Accuracy: 0.923700\n",
      "Epoch: 18 \tTraining Loss: 0.187406\n",
      "Epoch: 18 \tValidation Loss: 0.199995, Accuracy: 0.925000\n",
      "Epoch: 19 \tTraining Loss: 0.180034\n",
      "Epoch: 19 \tValidation Loss: 0.192159, Accuracy: 0.928800\n",
      "Epoch: 20 \tTraining Loss: 0.177594\n",
      "Epoch: 20 \tValidation Loss: 0.193218, Accuracy: 0.930600\n",
      "Epoch: 21 \tTraining Loss: 0.170373\n",
      "Epoch: 21 \tValidation Loss: 0.202250, Accuracy: 0.925700\n",
      "Epoch: 22 \tTraining Loss: 0.167666\n",
      "Epoch: 22 \tValidation Loss: 0.191687, Accuracy: 0.929500\n",
      "Epoch: 23 \tTraining Loss: 0.165169\n",
      "Epoch: 23 \tValidation Loss: 0.198278, Accuracy: 0.928000\n",
      "Epoch: 24 \tTraining Loss: 0.156074\n",
      "Epoch: 24 \tValidation Loss: 0.207208, Accuracy: 0.923200\n",
      "Epoch: 25 \tTraining Loss: 0.151925\n",
      "Epoch: 25 \tValidation Loss: 0.197918, Accuracy: 0.931400\n"
     ]
    }
   ],
   "source": [
    "for epoch in range(1, epochs+1): # 20轮，之前定义的两个函数都是一轮所需执行的代码。def train(epoch): def val(epoch):  \n",
    "    train(epoch)    # 可以把损失放在一个list里，进行可视化，画损失曲线\n",
    "    val(epoch)     # 当训练损失下降，而验证损失不再下降或升高了，则停止训练"
   ]
  },
  {
   "cell_type": "code",
   "execution_count": 20,
   "id": "0ffea470",
   "metadata": {
    "execution": {
     "iopub.execute_input": "2022-05-19T09:54:31.108282Z",
     "iopub.status.busy": "2022-05-19T09:54:31.108050Z",
     "iopub.status.idle": "2022-05-19T09:54:31.203612Z",
     "shell.execute_reply": "2022-05-19T09:54:31.202602Z"
    },
    "papermill": {
     "duration": 0.143507,
     "end_time": "2022-05-19T09:54:31.206170",
     "exception": false,
     "start_time": "2022-05-19T09:54:31.062663",
     "status": "completed"
    },
    "tags": []
   },
   "outputs": [
    {
     "name": "stdout",
     "output_type": "stream",
     "text": [
      "Thu May 19 09:54:31 2022       \n",
      "+-----------------------------------------------------------------------------+\n",
      "| NVIDIA-SMI 470.82.01    Driver Version: 470.82.01    CUDA Version: 11.4     |\n",
      "|-------------------------------+----------------------+----------------------+\n",
      "| GPU  Name        Persistence-M| Bus-Id        Disp.A | Volatile Uncorr. ECC |\n",
      "| Fan  Temp  Perf  Pwr:Usage/Cap|         Memory-Usage | GPU-Util  Compute M. |\n",
      "|                               |                      |               MIG M. |\n",
      "|===============================+======================+======================|\n",
      "|   0  Tesla P100-PCIE...  Off  | 00000000:00:04.0 Off |                    0 |\n",
      "| N/A   36C    P0    32W / 250W |   1063MiB / 16280MiB |      2%      Default |\n",
      "|                               |                      |                  N/A |\n",
      "+-------------------------------+----------------------+----------------------+\n",
      "                                                                               \n",
      "+-----------------------------------------------------------------------------+\n",
      "| Processes:                                                                  |\n",
      "|  GPU   GI   CI        PID   Type   Process name                  GPU Memory |\n",
      "|        ID   ID                                                   Usage      |\n",
      "|=============================================================================|\n",
      "+-----------------------------------------------------------------------------+\n"
     ]
    }
   ],
   "source": [
    "gpu_info = !nvidia-smi -i 0\n",
    "gpu_info = '\\n'.join(gpu_info)# 查看显存占用情况，当报出显存错误时有用。或者说别把卡的资源浪费了，看看显存占用情况，是否可以增大batchsize\n",
    "print(gpu_info)"
   ]
  },
  {
   "cell_type": "markdown",
   "id": "57518b28",
   "metadata": {
    "papermill": {
     "duration": 0.044561,
     "end_time": "2022-05-19T09:54:31.295745",
     "exception": false,
     "start_time": "2022-05-19T09:54:31.251184",
     "status": "completed"
    },
    "tags": []
   },
   "source": [
    "**模型保存**  \n",
    "训练完成后，可以使用torch.save保存模型参数或者整个模型，也可以在训练过程中保存模型  \n",
    "这部分会在后面的课程中详细介绍"
   ]
  },
  {
   "cell_type": "code",
   "execution_count": 21,
   "id": "f98fab5a",
   "metadata": {
    "execution": {
     "iopub.execute_input": "2022-05-19T09:54:31.386402Z",
     "iopub.status.busy": "2022-05-19T09:54:31.385749Z",
     "iopub.status.idle": "2022-05-19T09:54:31.390110Z",
     "shell.execute_reply": "2022-05-19T09:54:31.389389Z"
    },
    "papermill": {
     "duration": 0.051836,
     "end_time": "2022-05-19T09:54:31.391855",
     "exception": false,
     "start_time": "2022-05-19T09:54:31.340019",
     "status": "completed"
    },
    "tags": []
   },
   "outputs": [],
   "source": [
    "# save_path = \"./FahionModel.pkl\"\n",
    "# torch.save(model, save_path) # 保存有多种，保存模型参数，还是保存整个模型，单卡还是多卡"
   ]
  },
  {
   "cell_type": "code",
   "execution_count": null,
   "id": "dc3f4b98",
   "metadata": {
    "papermill": {
     "duration": 0.043672,
     "end_time": "2022-05-19T09:54:31.479621",
     "exception": false,
     "start_time": "2022-05-19T09:54:31.435949",
     "status": "completed"
    },
    "tags": []
   },
   "outputs": [],
   "source": []
  },
  {
   "cell_type": "code",
   "execution_count": null,
   "id": "743dccc1",
   "metadata": {
    "papermill": {
     "duration": 0.044391,
     "end_time": "2022-05-19T09:54:31.567997",
     "exception": false,
     "start_time": "2022-05-19T09:54:31.523606",
     "status": "completed"
    },
    "tags": []
   },
   "outputs": [],
   "source": []
  }
 ],
 "metadata": {
  "kernelspec": {
   "display_name": "Python 3",
   "language": "python",
   "name": "python3"
  },
  "language_info": {
   "codemirror_mode": {
    "name": "ipython",
    "version": 3
   },
   "file_extension": ".py",
   "mimetype": "text/x-python",
   "name": "python",
   "nbconvert_exporter": "python",
   "pygments_lexer": "ipython3",
   "version": "3.7.12"
  },
  "papermill": {
   "default_parameters": {},
   "duration": 283.1454,
   "end_time": "2022-05-19T09:54:32.935497",
   "environment_variables": {},
   "exception": null,
   "input_path": "__notebook__.ipynb",
   "output_path": "__notebook__.ipynb",
   "parameters": {},
   "start_time": "2022-05-19T09:49:49.790097",
   "version": "2.3.4"
  }
 },
 "nbformat": 4,
 "nbformat_minor": 5
}
